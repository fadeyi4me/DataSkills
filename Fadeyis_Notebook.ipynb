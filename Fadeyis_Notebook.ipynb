{
 "cells": [
  {
   "cell_type": "markdown",
   "metadata": {},
   "source": [
    "<center>\n",
    "    <img src=\"https://s3-api.us-geo.objectstorage.softlayer.net/cf-courses-data/CognitiveClass/Logos/organization_logo/organization_logo.png\" width=\"300\" alt=\"cognitiveclass.ai logo\"  />\n",
    "</center>\n"
   ]
  },
  {
   "cell_type": "markdown",
   "metadata": {},
   "source": [
    "#### Add your code below following the instructions given in the course\n"
   ]
  },
  {
   "cell_type": "markdown",
   "metadata": {},
   "source": [
    "<H1> My Jupyter Notebook on IBM Skills Network Labs</H1>"
   ]
  },
  {
   "cell_type": "markdown",
   "metadata": {},
   "source": [
    "**Adesola Yusuf Fadeyi**\n",
    "<br>My desired ocupation is to become a data scientist working with machine learning models</br>"
   ]
  },
  {
   "cell_type": "markdown",
   "metadata": {},
   "source": [
    "*I am interested in data science because it is one field that makes life easy for decision makers. \n",
    "<br>I also love the fact that as a data scientist, I get to study about past events and patterns so as not to repeat mistakes of the past and make better predictions of the future.</br>*"
   ]
  },
  {
   "cell_type": "markdown",
   "metadata": {},
   "source": [
    "<H3> The code below will display the outcome of rolling two dices</H3>"
   ]
  },
  {
   "cell_type": "code",
   "execution_count": 9,
   "metadata": {},
   "outputs": [
    {
     "name": "stdout",
     "output_type": "stream",
     "text": [
      "(1, 3)\n"
     ]
    }
   ],
   "source": [
    "import random\n",
    "\n",
    "\n",
    "class Dice():\n",
    "    def roll(self):\n",
    "        first = random.randint(1, 6)\n",
    "        second = random.randint(1, 6)\n",
    "        return first, second\n",
    "\n",
    "\n",
    "dice = Dice()\n",
    "print(dice.roll())"
   ]
  },
  {
   "cell_type": "markdown",
   "metadata": {},
   "source": [
    "<u>Below is a table of some of my daily routine</u>\n",
    "\n",
    "<table>\n",
    "  <tr>\n",
    "    <th>Morning</th>\n",
    "    <th>Afternoon</th>\n",
    "    <th>Evening<th>\n",
    "  </tr>\n",
    "    <tr>\n",
    "        <th>Starting the day</th>\n",
    "        <th>Fully active</th>\n",
    "        <th>Time to rest</th>\n",
    "    </tr>\n",
    "</table>\n",
    "\n",
    "<p>Buy these items for breakfast\n",
    "<ul>\n",
    "  <li>Egg</li>\n",
    "  <li>Milk</li>\n",
    "  <li>Bread</li>\n",
    "</ul>\n",
    "</p>\n",
    "<p>\n",
    "    Do these things daily\n",
    "    <ol>\n",
    "      <li>Pray</li>\n",
    "      <li>Exercise</li>\n",
    "      <li>Read</li>\n",
    "    </ol>\n",
    " </p>\n",
    " \n",
    " <p>I love <del>black</del> hat </p>\n",
    " \n",
    " [IBM homepage](https://www.ibm.com)"
   ]
  },
  {
   "cell_type": "markdown",
   "metadata": {},
   "source": []
  }
 ],
 "metadata": {
  "kernelspec": {
   "display_name": "Python",
   "language": "python",
   "name": "conda-env-python-py"
  },
  "language_info": {
   "codemirror_mode": {
    "name": "ipython",
    "version": 3
   },
   "file_extension": ".py",
   "mimetype": "text/x-python",
   "name": "python",
   "nbconvert_exporter": "python",
   "pygments_lexer": "ipython3",
   "version": "3.7.12"
  }
 },
 "nbformat": 4,
 "nbformat_minor": 4
}
